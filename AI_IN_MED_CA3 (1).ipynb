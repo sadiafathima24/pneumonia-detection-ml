{
  "nbformat": 4,
  "nbformat_minor": 0,
  "metadata": {
    "colab": {
      "provenance": [],
      "gpuType": "T4"
    },
    "kernelspec": {
      "name": "python3",
      "display_name": "Python 3"
    },
    "language_info": {
      "name": "python"
    },
    "accelerator": "GPU",
    "widgets": {
      "application/vnd.jupyter.widget-state+json": {
        "d2a067495dc048fabb6e98fc4285114b": {
          "model_module": "@jupyter-widgets/controls",
          "model_name": "FileUploadModel",
          "model_module_version": "1.5.0",
          "state": {
            "_counter": 0,
            "_dom_classes": [],
            "_model_module": "@jupyter-widgets/controls",
            "_model_module_version": "1.5.0",
            "_model_name": "FileUploadModel",
            "_view_count": null,
            "_view_module": "@jupyter-widgets/controls",
            "_view_module_version": "1.5.0",
            "_view_name": "FileUploadView",
            "accept": "image/*",
            "button_style": "",
            "data": [],
            "description": "Upload X-Ray",
            "description_tooltip": null,
            "disabled": false,
            "error": "",
            "icon": "upload",
            "layout": "IPY_MODEL_24e7916cd26e41bda8573a5731b1ef69",
            "metadata": [],
            "multiple": false,
            "style": "IPY_MODEL_57bbd6df46494d98ab0dcd6f18b0c992"
          }
        },
        "24e7916cd26e41bda8573a5731b1ef69": {
          "model_module": "@jupyter-widgets/base",
          "model_name": "LayoutModel",
          "model_module_version": "1.2.0",
          "state": {
            "_model_module": "@jupyter-widgets/base",
            "_model_module_version": "1.2.0",
            "_model_name": "LayoutModel",
            "_view_count": null,
            "_view_module": "@jupyter-widgets/base",
            "_view_module_version": "1.2.0",
            "_view_name": "LayoutView",
            "align_content": null,
            "align_items": null,
            "align_self": null,
            "border": null,
            "bottom": null,
            "display": null,
            "flex": null,
            "flex_flow": null,
            "grid_area": null,
            "grid_auto_columns": null,
            "grid_auto_flow": null,
            "grid_auto_rows": null,
            "grid_column": null,
            "grid_gap": null,
            "grid_row": null,
            "grid_template_areas": null,
            "grid_template_columns": null,
            "grid_template_rows": null,
            "height": null,
            "justify_content": null,
            "justify_items": null,
            "left": null,
            "margin": null,
            "max_height": null,
            "max_width": null,
            "min_height": null,
            "min_width": null,
            "object_fit": null,
            "object_position": null,
            "order": null,
            "overflow": null,
            "overflow_x": null,
            "overflow_y": null,
            "padding": null,
            "right": null,
            "top": null,
            "visibility": null,
            "width": null
          }
        },
        "57bbd6df46494d98ab0dcd6f18b0c992": {
          "model_module": "@jupyter-widgets/controls",
          "model_name": "ButtonStyleModel",
          "model_module_version": "1.5.0",
          "state": {
            "_model_module": "@jupyter-widgets/controls",
            "_model_module_version": "1.5.0",
            "_model_name": "ButtonStyleModel",
            "_view_count": null,
            "_view_module": "@jupyter-widgets/base",
            "_view_module_version": "1.2.0",
            "_view_name": "StyleView",
            "button_color": null,
            "font_weight": ""
          }
        },
        "a5423e418ca746d79514755cb514c12f": {
          "model_module": "@jupyter-widgets/output",
          "model_name": "OutputModel",
          "model_module_version": "1.0.0",
          "state": {
            "_dom_classes": [],
            "_model_module": "@jupyter-widgets/output",
            "_model_module_version": "1.0.0",
            "_model_name": "OutputModel",
            "_view_count": null,
            "_view_module": "@jupyter-widgets/output",
            "_view_module_version": "1.0.0",
            "_view_name": "OutputView",
            "layout": "IPY_MODEL_04d9dd6cdffd41ff86233daf4d9a0d36",
            "msg_id": "",
            "outputs": []
          }
        },
        "04d9dd6cdffd41ff86233daf4d9a0d36": {
          "model_module": "@jupyter-widgets/base",
          "model_name": "LayoutModel",
          "model_module_version": "1.2.0",
          "state": {
            "_model_module": "@jupyter-widgets/base",
            "_model_module_version": "1.2.0",
            "_model_name": "LayoutModel",
            "_view_count": null,
            "_view_module": "@jupyter-widgets/base",
            "_view_module_version": "1.2.0",
            "_view_name": "LayoutView",
            "align_content": null,
            "align_items": null,
            "align_self": null,
            "border": null,
            "bottom": null,
            "display": null,
            "flex": null,
            "flex_flow": null,
            "grid_area": null,
            "grid_auto_columns": null,
            "grid_auto_flow": null,
            "grid_auto_rows": null,
            "grid_column": null,
            "grid_gap": null,
            "grid_row": null,
            "grid_template_areas": null,
            "grid_template_columns": null,
            "grid_template_rows": null,
            "height": null,
            "justify_content": null,
            "justify_items": null,
            "left": null,
            "margin": null,
            "max_height": null,
            "max_width": null,
            "min_height": null,
            "min_width": null,
            "object_fit": null,
            "object_position": null,
            "order": null,
            "overflow": null,
            "overflow_x": null,
            "overflow_y": null,
            "padding": null,
            "right": null,
            "top": null,
            "visibility": null,
            "width": null
          }
        },
        "bde5eb29fdbe4ba6970b5060579b2e31": {
          "model_module": "@jupyter-widgets/controls",
          "model_name": "FileUploadModel",
          "model_module_version": "1.5.0",
          "state": {
            "_counter": 1,
            "_dom_classes": [],
            "_model_module": "@jupyter-widgets/controls",
            "_model_module_version": "1.5.0",
            "_model_name": "FileUploadModel",
            "_view_count": null,
            "_view_module": "@jupyter-widgets/controls",
            "_view_module_version": "1.5.0",
            "_view_name": "FileUploadView",
            "accept": "image/*",
            "button_style": "",
            "data": [
              null
            ],
            "description": "Upload X-Ray",
            "description_tooltip": null,
            "disabled": false,
            "error": "",
            "icon": "upload",
            "layout": "IPY_MODEL_e1a4b2b4e3d64e909ef0283164647ec3",
            "metadata": [
              {
                "name": "Screenshot 2025-10-14 083622.png",
                "type": "image/png",
                "size": 404391,
                "lastModified": 1760411182699
              }
            ],
            "multiple": false,
            "style": "IPY_MODEL_9c5d3c236dd94327b6c0b35db0a5ab3b"
          }
        },
        "e1a4b2b4e3d64e909ef0283164647ec3": {
          "model_module": "@jupyter-widgets/base",
          "model_name": "LayoutModel",
          "model_module_version": "1.2.0",
          "state": {
            "_model_module": "@jupyter-widgets/base",
            "_model_module_version": "1.2.0",
            "_model_name": "LayoutModel",
            "_view_count": null,
            "_view_module": "@jupyter-widgets/base",
            "_view_module_version": "1.2.0",
            "_view_name": "LayoutView",
            "align_content": null,
            "align_items": null,
            "align_self": null,
            "border": null,
            "bottom": null,
            "display": null,
            "flex": null,
            "flex_flow": null,
            "grid_area": null,
            "grid_auto_columns": null,
            "grid_auto_flow": null,
            "grid_auto_rows": null,
            "grid_column": null,
            "grid_gap": null,
            "grid_row": null,
            "grid_template_areas": null,
            "grid_template_columns": null,
            "grid_template_rows": null,
            "height": null,
            "justify_content": null,
            "justify_items": null,
            "left": null,
            "margin": null,
            "max_height": null,
            "max_width": null,
            "min_height": null,
            "min_width": null,
            "object_fit": null,
            "object_position": null,
            "order": null,
            "overflow": null,
            "overflow_x": null,
            "overflow_y": null,
            "padding": null,
            "right": null,
            "top": null,
            "visibility": null,
            "width": null
          }
        },
        "9c5d3c236dd94327b6c0b35db0a5ab3b": {
          "model_module": "@jupyter-widgets/controls",
          "model_name": "ButtonStyleModel",
          "model_module_version": "1.5.0",
          "state": {
            "_model_module": "@jupyter-widgets/controls",
            "_model_module_version": "1.5.0",
            "_model_name": "ButtonStyleModel",
            "_view_count": null,
            "_view_module": "@jupyter-widgets/base",
            "_view_module_version": "1.2.0",
            "_view_name": "StyleView",
            "button_color": null,
            "font_weight": ""
          }
        },
        "0f910a40e04842359242a896a0e7b1ce": {
          "model_module": "@jupyter-widgets/output",
          "model_name": "OutputModel",
          "model_module_version": "1.0.0",
          "state": {
            "_dom_classes": [],
            "_model_module": "@jupyter-widgets/output",
            "_model_module_version": "1.0.0",
            "_model_name": "OutputModel",
            "_view_count": null,
            "_view_module": "@jupyter-widgets/output",
            "_view_module_version": "1.0.0",
            "_view_name": "OutputView",
            "layout": "IPY_MODEL_6f424aa1592c4b9b805c78eb4a66040d",
            "msg_id": "",
            "outputs": [
              {
                "output_type": "stream",
                "name": "stdout",
                "text": [
                  "\r\u001b[1m1/1\u001b[0m \u001b[32m━━━━━━━━━━━━━━━━━━━━\u001b[0m\u001b[37m\u001b[0m \u001b[1m0s\u001b[0m 24ms/step"
                ]
              },
              {
                "output_type": "stream",
                "name": "stdout",
                "text": [
                  "\b\b\b\b\b\b\b\b\b\b\b\b\b\b\b\b\b\b\b\b\b\b\b\b\b\b\b\b\b\b\b\b\b\b\b\b\b\r\u001b[1m1/1\u001b[0m \u001b[32m━━━━━━━━━━━━━━━━━━━━\u001b[0m\u001b[37m\u001b[0m \u001b[1m0s\u001b[0m 39ms/step\n"
                ]
              },
              {
                "output_type": "stream",
                "name": "stdout",
                "text": [
                  "✅ Prediction: **Pneumonia**\n",
                  "Confidence: 99.50%\n"
                ]
              },
              {
                "output_type": "display_data",
                "data": {
                  "text/plain": "<Figure size 500x500 with 1 Axes>",
                  "image/png": "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\n"
                },
                "metadata": {}
              }
            ]
          }
        },
        "6f424aa1592c4b9b805c78eb4a66040d": {
          "model_module": "@jupyter-widgets/base",
          "model_name": "LayoutModel",
          "model_module_version": "1.2.0",
          "state": {
            "_model_module": "@jupyter-widgets/base",
            "_model_module_version": "1.2.0",
            "_model_name": "LayoutModel",
            "_view_count": null,
            "_view_module": "@jupyter-widgets/base",
            "_view_module_version": "1.2.0",
            "_view_name": "LayoutView",
            "align_content": null,
            "align_items": null,
            "align_self": null,
            "border": null,
            "bottom": null,
            "display": null,
            "flex": null,
            "flex_flow": null,
            "grid_area": null,
            "grid_auto_columns": null,
            "grid_auto_flow": null,
            "grid_auto_rows": null,
            "grid_column": null,
            "grid_gap": null,
            "grid_row": null,
            "grid_template_areas": null,
            "grid_template_columns": null,
            "grid_template_rows": null,
            "height": null,
            "justify_content": null,
            "justify_items": null,
            "left": null,
            "margin": null,
            "max_height": null,
            "max_width": null,
            "min_height": null,
            "min_width": null,
            "object_fit": null,
            "object_position": null,
            "order": null,
            "overflow": null,
            "overflow_x": null,
            "overflow_y": null,
            "padding": null,
            "right": null,
            "top": null,
            "visibility": null,
            "width": null
          }
        }
      }
    }
  },
  "cells": [
    {
      "cell_type": "code",
      "execution_count": null,
      "metadata": {
        "colab": {
          "base_uri": "https://localhost:8080/"
        },
        "id": "Jw4fAQ85VlSZ",
        "outputId": "bbc20f6f-6166-4b86-c857-009492c8acf9"
      },
      "outputs": [
        {
          "output_type": "stream",
          "name": "stdout",
          "text": [
            "Tue Oct 14 02:54:17 2025       \n",
            "+-----------------------------------------------------------------------------------------+\n",
            "| NVIDIA-SMI 550.54.15              Driver Version: 550.54.15      CUDA Version: 12.4     |\n",
            "|-----------------------------------------+------------------------+----------------------+\n",
            "| GPU  Name                 Persistence-M | Bus-Id          Disp.A | Volatile Uncorr. ECC |\n",
            "| Fan  Temp   Perf          Pwr:Usage/Cap |           Memory-Usage | GPU-Util  Compute M. |\n",
            "|                                         |                        |               MIG M. |\n",
            "|=========================================+========================+======================|\n",
            "|   0  Tesla T4                       Off |   00000000:00:04.0 Off |                    0 |\n",
            "| N/A   36C    P8              9W /   70W |       0MiB /  15360MiB |      0%      Default |\n",
            "|                                         |                        |                  N/A |\n",
            "+-----------------------------------------+------------------------+----------------------+\n",
            "                                                                                         \n",
            "+-----------------------------------------------------------------------------------------+\n",
            "| Processes:                                                                              |\n",
            "|  GPU   GI   CI        PID   Type   Process name                              GPU Memory |\n",
            "|        ID   ID                                                               Usage      |\n",
            "|=========================================================================================|\n",
            "|  No running processes found                                                             |\n",
            "+-----------------------------------------------------------------------------------------+\n"
          ]
        }
      ],
      "source": [
        "!nvidia-smi\n"
      ]
    },
    {
      "cell_type": "code",
      "source": [
        "from google.colab import drive\n",
        "drive.mount('/content/drive')\n",
        "\n",
        "# change this to your dataset folder path inside Drive\n",
        "dataset_path = \"/content/drive/MyDrive/chest_xray\"\n",
        "\n",
        "train_dir = dataset_path + \"/train\"\n",
        "val_dir   = dataset_path + \"/val\"\n",
        "test_dir  = dataset_path + \"/test\"\n"
      ],
      "metadata": {
        "colab": {
          "base_uri": "https://localhost:8080/"
        },
        "id": "fFAqysyOVzGY",
        "outputId": "e42cc6b3-a9ff-41d5-8eaa-2163efd4d155"
      },
      "execution_count": null,
      "outputs": [
        {
          "output_type": "stream",
          "name": "stdout",
          "text": [
            "Drive already mounted at /content/drive; to attempt to forcibly remount, call drive.mount(\"/content/drive\", force_remount=True).\n"
          ]
        }
      ]
    },
    {
      "cell_type": "code",
      "source": [
        "!ls /content/drive/MyDrive\n"
      ],
      "metadata": {
        "colab": {
          "base_uri": "https://localhost:8080/"
        },
        "id": "_U9WMwq4WRs8",
        "outputId": "2235928b-a693-43cf-9586-75312d333467"
      },
      "execution_count": null,
      "outputs": [
        {
          "output_type": "stream",
          "name": "stdout",
          "text": [
            " ai_project  'archive (1).zip'\t'Colab Notebooks'\n"
          ]
        }
      ]
    },
    {
      "cell_type": "code",
      "source": [
        "import zipfile\n",
        "import os\n",
        "\n",
        "zip_path = \"/content/drive/MyDrive/archive (1).zip\"\n",
        "extract_path = \"/content/drive/MyDrive/ai_project\"\n",
        "\n",
        "# Extract if not already done\n",
        "if not os.path.exists(extract_path):\n",
        "    with zipfile.ZipFile(zip_path, 'r') as zip_ref:\n",
        "        zip_ref.extractall(extract_path)\n",
        "    print(\"✅ Extracted dataset!\")\n",
        "else:\n",
        "    print(\"⚡ Dataset already extracted\")\n"
      ],
      "metadata": {
        "colab": {
          "base_uri": "https://localhost:8080/"
        },
        "id": "NVRYjNvYWaa8",
        "outputId": "12e9ed8b-020f-4fdf-9c0b-7a1294816b91"
      },
      "execution_count": null,
      "outputs": [
        {
          "output_type": "stream",
          "name": "stdout",
          "text": [
            "⚡ Dataset already extracted\n"
          ]
        }
      ]
    },
    {
      "cell_type": "code",
      "source": [
        "!ls \"/content/drive/MyDrive/ai_project\"\n"
      ],
      "metadata": {
        "colab": {
          "base_uri": "https://localhost:8080/"
        },
        "id": "Ef5gkxQpWcnU",
        "outputId": "0f952001-77cd-4fd7-e039-aed310d0c0f0"
      },
      "execution_count": null,
      "outputs": [
        {
          "output_type": "stream",
          "name": "stdout",
          "text": [
            "best_vgg16_augmented.h5  best_vgg16.h5\tchest_xray\n"
          ]
        }
      ]
    },
    {
      "cell_type": "code",
      "source": [
        "!ls \"/content/drive/MyDrive/ai_project/chest_xray\"\n"
      ],
      "metadata": {
        "colab": {
          "base_uri": "https://localhost:8080/"
        },
        "id": "osFDDXeGXYfY",
        "outputId": "bd5a0110-776f-4ead-f60e-b6d1eb880983"
      },
      "execution_count": null,
      "outputs": [
        {
          "output_type": "stream",
          "name": "stdout",
          "text": [
            "test  train  val\n"
          ]
        }
      ]
    },
    {
      "cell_type": "code",
      "source": [
        "import shutil, os\n",
        "\n",
        "# Paths to delete\n",
        "folders_to_delete = [\n",
        "    \"/content/drive/MyDrive/ai_project/chest_xray/chest_xray\",\n",
        "    \"/content/drive/MyDrive/ai_project/chest_xray/__MACOSX\"\n",
        "]\n",
        "\n",
        "for folder in folders_to_delete:\n",
        "    if os.path.exists(folder):\n",
        "        shutil.rmtree(folder)\n",
        "        print(f\"Deleted: {folder}\")\n",
        "    else:\n",
        "        print(f\"Not found (already deleted): {folder}\")\n"
      ],
      "metadata": {
        "colab": {
          "base_uri": "https://localhost:8080/"
        },
        "id": "i86VZn4oXu2o",
        "outputId": "29c58aa0-2384-41bd-e6b1-33b47ee81f91"
      },
      "execution_count": null,
      "outputs": [
        {
          "output_type": "stream",
          "name": "stdout",
          "text": [
            "Not found (already deleted): /content/drive/MyDrive/ai_project/chest_xray/chest_xray\n",
            "Not found (already deleted): /content/drive/MyDrive/ai_project/chest_xray/__MACOSX\n"
          ]
        }
      ]
    },
    {
      "cell_type": "code",
      "source": [
        "!ls \"/content/drive/MyDrive/ai_project/chest_xray\""
      ],
      "metadata": {
        "colab": {
          "base_uri": "https://localhost:8080/"
        },
        "id": "_xh-Jhk2Xxi2",
        "outputId": "730f7fef-332b-4c64-f299-2814ea12e387"
      },
      "execution_count": null,
      "outputs": [
        {
          "output_type": "stream",
          "name": "stdout",
          "text": [
            "test  train  val\n"
          ]
        }
      ]
    },
    {
      "cell_type": "code",
      "source": [
        "!ls \"/content/drive/MyDrive/ai_project/chest_xray/train\"\n"
      ],
      "metadata": {
        "colab": {
          "base_uri": "https://localhost:8080/"
        },
        "id": "Zr05CMeHX5I5",
        "outputId": "960603e8-d777-4b65-b960-b90bd77e064c"
      },
      "execution_count": null,
      "outputs": [
        {
          "output_type": "stream",
          "name": "stdout",
          "text": [
            "NORMAL\tPNEUMONIA\n"
          ]
        }
      ]
    },
    {
      "cell_type": "code",
      "source": [
        "!ls \"/content/drive/MyDrive/ai_project/chest_xray/test\"\n"
      ],
      "metadata": {
        "colab": {
          "base_uri": "https://localhost:8080/"
        },
        "id": "bkZUy4aOX-HF",
        "outputId": "6cd67838-206e-4d98-a669-6570553702b5"
      },
      "execution_count": null,
      "outputs": [
        {
          "output_type": "stream",
          "name": "stdout",
          "text": [
            "NORMAL\tPNEUMONIA\n"
          ]
        }
      ]
    },
    {
      "cell_type": "code",
      "source": [
        "!ls \"/content/drive/MyDrive/ai_project/chest_xray/val\"\n"
      ],
      "metadata": {
        "colab": {
          "base_uri": "https://localhost:8080/"
        },
        "id": "8Fd0z_BMYBsN",
        "outputId": "801a9b49-c33b-44dd-c6da-01921ea3de92"
      },
      "execution_count": null,
      "outputs": [
        {
          "output_type": "stream",
          "name": "stdout",
          "text": [
            "NORMAL\tPNEUMONIA\n"
          ]
        }
      ]
    },
    {
      "cell_type": "code",
      "source": [
        "dataset_path = \"/content/drive/MyDrive/ai_project\"\n"
      ],
      "metadata": {
        "id": "vDlzVLGnYESU"
      },
      "execution_count": null,
      "outputs": []
    },
    {
      "cell_type": "code",
      "source": [
        "import os\n",
        "\n",
        "base_path = \"/content/drive/MyDrive/ai_project/chest_xray\"\n",
        "\n",
        "for split in [\"train\", \"val\", \"test\"]:\n",
        "    print(f\"\\n📂 {split.upper()} set:\")\n",
        "    for cls in os.listdir(os.path.join(base_path, split)):\n",
        "        cls_path = os.path.join(base_path, split, cls)\n",
        "        print(f\"{cls}: {len(os.listdir(cls_path))} images\")\n"
      ],
      "metadata": {
        "colab": {
          "base_uri": "https://localhost:8080/"
        },
        "id": "4SDtl5szYONL",
        "outputId": "12fdfc57-7097-43c7-e499-3fcd9a107a87"
      },
      "execution_count": null,
      "outputs": [
        {
          "output_type": "stream",
          "name": "stdout",
          "text": [
            "\n",
            "📂 TRAIN set:\n",
            "NORMAL: 1341 images\n",
            "PNEUMONIA: 3875 images\n",
            "\n",
            "📂 VAL set:\n",
            "NORMAL: 8 images\n",
            "PNEUMONIA: 8 images\n",
            "\n",
            "📂 TEST set:\n",
            "NORMAL: 234 images\n",
            "PNEUMONIA: 390 images\n"
          ]
        }
      ]
    },
    {
      "cell_type": "code",
      "source": [
        "from tensorflow.keras.preprocessing.image import ImageDataGenerator\n",
        "\n",
        "# Augmentation for training\n",
        "train_datagen = ImageDataGenerator(\n",
        "    rescale=1./255,\n",
        "    rotation_range=15,\n",
        "    width_shift_range=0.1,\n",
        "    height_shift_range=0.1,\n",
        "    shear_range=0.1,\n",
        "    zoom_range=0.1,\n",
        "    horizontal_flip=True,\n",
        "    fill_mode='nearest'\n",
        ")\n",
        "\n",
        "val_datagen = ImageDataGenerator(rescale=1./255)\n",
        "test_datagen = ImageDataGenerator(rescale=1./255)\n",
        "\n",
        "# Flow from directories\n",
        "train_gen = train_datagen.flow_from_directory(\n",
        "    os.path.join(base_path, \"train\"),\n",
        "    target_size=(150, 150),\n",
        "    batch_size=32,\n",
        "    class_mode='binary'\n",
        ")\n",
        "\n",
        "val_gen = val_datagen.flow_from_directory(\n",
        "    os.path.join(base_path, \"val\"),\n",
        "    target_size=(150, 150),\n",
        "    batch_size=32,\n",
        "    class_mode='binary'\n",
        ")\n",
        "\n",
        "test_gen = test_datagen.flow_from_directory(\n",
        "    os.path.join(base_path, \"test\"),\n",
        "    target_size=(150, 150),\n",
        "    batch_size=32,\n",
        "    class_mode='binary',\n",
        "    shuffle=False\n",
        ")\n"
      ],
      "metadata": {
        "colab": {
          "base_uri": "https://localhost:8080/"
        },
        "id": "mv-ILw4gYgOt",
        "outputId": "8fb7a824-ce1e-40b3-a0bf-146c9734025b"
      },
      "execution_count": null,
      "outputs": [
        {
          "output_type": "stream",
          "name": "stdout",
          "text": [
            "Found 5216 images belonging to 2 classes.\n",
            "Found 16 images belonging to 2 classes.\n",
            "Found 624 images belonging to 2 classes.\n"
          ]
        }
      ]
    },
    {
      "cell_type": "code",
      "source": [
        "train_datagen = ImageDataGenerator(\n",
        "    rescale=1./255,\n",
        "    rotation_range=15,\n",
        "    width_shift_range=0.1,\n",
        "    height_shift_range=0.1,\n",
        "    shear_range=0.1,\n",
        "    zoom_range=0.1,\n",
        "    horizontal_flip=True,\n",
        "    fill_mode='nearest',\n",
        "    validation_split=0.1   # <-- 10% training data used as validation\n",
        ")\n",
        "\n",
        "# Train generator (90%)\n",
        "train_gen = train_datagen.flow_from_directory(\n",
        "    os.path.join(base_path, \"train\"),\n",
        "    target_size=(150, 150),\n",
        "    batch_size=32,\n",
        "    class_mode='binary',\n",
        "    subset='training'\n",
        ")\n",
        "\n",
        "# Validation generator (10%)\n",
        "val_gen = train_datagen.flow_from_directory(\n",
        "    os.path.join(base_path, \"train\"),\n",
        "    target_size=(150, 150),\n",
        "    batch_size=32,\n",
        "    class_mode='binary',\n",
        "    subset='validation'\n",
        ")\n",
        "\n",
        "# Test stays the same\n",
        "test_gen = test_datagen.flow_from_directory(\n",
        "    os.path.join(base_path, \"test\"),\n",
        "    target_size=(150, 150),\n",
        "    batch_size=32,\n",
        "    class_mode='binary',\n",
        "    shuffle=False\n",
        ")\n"
      ],
      "metadata": {
        "colab": {
          "base_uri": "https://localhost:8080/"
        },
        "id": "cEZsJZnEY3s0",
        "outputId": "803c6eb3-4fb6-4d6c-9fb5-50cb26531bb5"
      },
      "execution_count": null,
      "outputs": [
        {
          "output_type": "stream",
          "name": "stdout",
          "text": [
            "Found 4695 images belonging to 2 classes.\n",
            "Found 521 images belonging to 2 classes.\n",
            "Found 624 images belonging to 2 classes.\n"
          ]
        }
      ]
    },
    {
      "cell_type": "code",
      "source": [
        "import os\n",
        "\n",
        "base_path = \"/content/drive/MyDrive/ai_project/chest_xray\"  # change if different\n",
        "\n",
        "for split in [\"train\", \"val\", \"test\"]:\n",
        "    print(f\"\\n--- {split.upper()} ---\")\n",
        "    for cls in os.listdir(os.path.join(base_path, split)):\n",
        "        cls_path = os.path.join(base_path, split, cls)\n",
        "        print(f\"{cls}: {len(os.listdir(cls_path))} images\")\n"
      ],
      "metadata": {
        "colab": {
          "base_uri": "https://localhost:8080/"
        },
        "id": "fT7lqROLZdhl",
        "outputId": "569021b9-37a9-49ba-8c02-e301fe9847b3"
      },
      "execution_count": null,
      "outputs": [
        {
          "output_type": "stream",
          "name": "stdout",
          "text": [
            "\n",
            "--- TRAIN ---\n",
            "NORMAL: 1341 images\n",
            "PNEUMONIA: 3875 images\n",
            "\n",
            "--- VAL ---\n",
            "NORMAL: 8 images\n",
            "PNEUMONIA: 8 images\n",
            "\n",
            "--- TEST ---\n",
            "NORMAL: 234 images\n",
            "PNEUMONIA: 390 images\n"
          ]
        }
      ]
    },
    {
      "cell_type": "code",
      "source": [
        "train_datagen = ImageDataGenerator(rescale=1./255, validation_split=0.2)\n",
        "\n",
        "train_gen = train_datagen.flow_from_directory(\n",
        "    os.path.join(base_path, \"train\"),\n",
        "    target_size=(150, 150),\n",
        "    batch_size=32,\n",
        "    class_mode='binary',\n",
        "    subset='training'\n",
        ")\n",
        "\n",
        "val_gen = train_datagen.flow_from_directory(\n",
        "    os.path.join(base_path, \"train\"),\n",
        "    target_size=(150, 150),\n",
        "    batch_size=32,\n",
        "    class_mode='binary',\n",
        "    subset='validation'\n",
        ")\n"
      ],
      "metadata": {
        "colab": {
          "base_uri": "https://localhost:8080/"
        },
        "id": "RPRdbqmEZ57j",
        "outputId": "e3f0bd65-2f51-4e5e-88de-be435a792fe8"
      },
      "execution_count": null,
      "outputs": [
        {
          "output_type": "stream",
          "name": "stdout",
          "text": [
            "Found 4173 images belonging to 2 classes.\n",
            "Found 1043 images belonging to 2 classes.\n"
          ]
        }
      ]
    },
    {
      "cell_type": "code",
      "source": [
        "import os\n",
        "from tensorflow.keras.preprocessing.image import ImageDataGenerator\n",
        "\n",
        "base_path = \"/content/drive/MyDrive/ai_project/chest_xray\"\n",
        "\n",
        "# ImageDataGenerator with more aggressive augmentation for training\n",
        "train_datagen = ImageDataGenerator(\n",
        "    rescale=1./255,\n",
        "    rotation_range=30,  # Increased rotation\n",
        "    width_shift_range=0.2, # Increased shift\n",
        "    height_shift_range=0.2, # Increased shift\n",
        "    shear_range=0.2,      # Increased shear\n",
        "    zoom_range=0.2,       # Increased zoom\n",
        "    horizontal_flip=True,\n",
        "    fill_mode='nearest',\n",
        "    validation_split=0.2  # 20% of training images used for validation\n",
        ")\n",
        "\n",
        "# Training generator\n",
        "train_gen = train_datagen.flow_from_directory(\n",
        "    os.path.join(base_path, \"train\"),\n",
        "    target_size=(150, 150),   # you can change size if needed\n",
        "    batch_size=32,\n",
        "    class_mode='binary',\n",
        "    subset='training'\n",
        ")\n",
        "\n",
        "# Validation generator (only rescaling, no augmentation)\n",
        "# We will use a separate datagen for validation to avoid augmenting validation data\n",
        "val_datagen = ImageDataGenerator(rescale=1./255, validation_split=0.2)\n",
        "\n",
        "val_gen = val_datagen.flow_from_directory(\n",
        "    os.path.join(base_path, \"train\"),\n",
        "    target_size=(150, 150),\n",
        "    batch_size=32,\n",
        "    class_mode='binary',\n",
        "    subset='validation' # Use the validation subset from the original training data\n",
        ")\n",
        "\n",
        "\n",
        "# Test generator (only rescaling, no split)\n",
        "test_datagen = ImageDataGenerator(rescale=1./255)\n",
        "\n",
        "test_gen = test_datagen.flow_from_directory(\n",
        "    os.path.join(base_path, \"test\"),\n",
        "    target_size=(150, 150),\n",
        "    batch_size=32,\n",
        "    class_mode='binary',\n",
        "    shuffle=False\n",
        ")"
      ],
      "metadata": {
        "colab": {
          "base_uri": "https://localhost:8080/"
        },
        "id": "m8oVTmXaaIIl",
        "outputId": "0cef636a-0e3d-458e-bd18-bef4a4f2232a"
      },
      "execution_count": null,
      "outputs": [
        {
          "output_type": "stream",
          "name": "stdout",
          "text": [
            "Found 4173 images belonging to 2 classes.\n",
            "Found 1043 images belonging to 2 classes.\n",
            "Found 624 images belonging to 2 classes.\n"
          ]
        }
      ]
    },
    {
      "cell_type": "code",
      "source": [
        "print(\"Number of training images:\", train_gen.samples)\n",
        "print(\"Number of validation images:\", val_gen.samples)\n",
        "print(\"Number of test images:\", test_gen.samples)\n"
      ],
      "metadata": {
        "colab": {
          "base_uri": "https://localhost:8080/"
        },
        "id": "hTz1-sEhaK0w",
        "outputId": "c8dfa42f-d5f7-4111-882d-090a81d8f031"
      },
      "execution_count": null,
      "outputs": [
        {
          "output_type": "stream",
          "name": "stdout",
          "text": [
            "Number of training images: 4173\n",
            "Number of validation images: 1043\n",
            "Number of test images: 624\n"
          ]
        }
      ]
    },
    {
      "cell_type": "code",
      "source": [
        "from tensorflow.keras.applications import VGG16\n",
        "from tensorflow.keras.models import Model\n",
        "from tensorflow.keras.layers import Dense, Dropout, Flatten\n",
        "from tensorflow.keras.optimizers import Adam\n",
        "\n",
        "# Load VGG16 without top classifier layers\n",
        "base_model = VGG16(weights=\"imagenet\", include_top=False, input_shape=(150,150,3))\n",
        "\n",
        "# Freeze base model layers so we don’t retrain them initially\n",
        "for layer in base_model.layers:\n",
        "    layer.trainable = False\n",
        "\n",
        "# Add custom classification head\n",
        "x = Flatten()(base_model.output)\n",
        "x = Dense(256, activation='relu')(x)\n",
        "x = Dropout(0.5)(x)\n",
        "output = Dense(1, activation='sigmoid')(x)\n",
        "\n",
        "model = Model(inputs=base_model.input, outputs=output)\n",
        "\n",
        "# Compile the model\n",
        "model.compile(optimizer=Adam(learning_rate=0.0001),\n",
        "              loss='binary_crossentropy',\n",
        "              metrics=['accuracy'])\n",
        "\n",
        "model.summary()\n"
      ],
      "metadata": {
        "colab": {
          "base_uri": "https://localhost:8080/",
          "height": 937
        },
        "id": "H3Okn-D1afEJ",
        "outputId": "9e9ec619-1b6a-4c13-a5d3-a208c7a38eb7"
      },
      "execution_count": null,
      "outputs": [
        {
          "output_type": "stream",
          "name": "stdout",
          "text": [
            "Downloading data from https://storage.googleapis.com/tensorflow/keras-applications/vgg16/vgg16_weights_tf_dim_ordering_tf_kernels_notop.h5\n",
            "\u001b[1m58889256/58889256\u001b[0m \u001b[32m━━━━━━━━━━━━━━━━━━━━\u001b[0m\u001b[37m\u001b[0m \u001b[1m0s\u001b[0m 0us/step\n"
          ]
        },
        {
          "output_type": "display_data",
          "data": {
            "text/plain": [
              "\u001b[1mModel: \"functional\"\u001b[0m\n"
            ],
            "text/html": [
              "<pre style=\"white-space:pre;overflow-x:auto;line-height:normal;font-family:Menlo,'DejaVu Sans Mono',consolas,'Courier New',monospace\"><span style=\"font-weight: bold\">Model: \"functional\"</span>\n",
              "</pre>\n"
            ]
          },
          "metadata": {}
        },
        {
          "output_type": "display_data",
          "data": {
            "text/plain": [
              "┏━━━━━━━━━━━━━━━━━━━━━━━━━━━━━━━━━┳━━━━━━━━━━━━━━━━━━━━━━━━┳━━━━━━━━━━━━━━━┓\n",
              "┃\u001b[1m \u001b[0m\u001b[1mLayer (type)                   \u001b[0m\u001b[1m \u001b[0m┃\u001b[1m \u001b[0m\u001b[1mOutput Shape          \u001b[0m\u001b[1m \u001b[0m┃\u001b[1m \u001b[0m\u001b[1m      Param #\u001b[0m\u001b[1m \u001b[0m┃\n",
              "┡━━━━━━━━━━━━━━━━━━━━━━━━━━━━━━━━━╇━━━━━━━━━━━━━━━━━━━━━━━━╇━━━━━━━━━━━━━━━┩\n",
              "│ input_layer (\u001b[38;5;33mInputLayer\u001b[0m)        │ (\u001b[38;5;45mNone\u001b[0m, \u001b[38;5;34m150\u001b[0m, \u001b[38;5;34m150\u001b[0m, \u001b[38;5;34m3\u001b[0m)    │             \u001b[38;5;34m0\u001b[0m │\n",
              "├─────────────────────────────────┼────────────────────────┼───────────────┤\n",
              "│ block1_conv1 (\u001b[38;5;33mConv2D\u001b[0m)           │ (\u001b[38;5;45mNone\u001b[0m, \u001b[38;5;34m150\u001b[0m, \u001b[38;5;34m150\u001b[0m, \u001b[38;5;34m64\u001b[0m)   │         \u001b[38;5;34m1,792\u001b[0m │\n",
              "├─────────────────────────────────┼────────────────────────┼───────────────┤\n",
              "│ block1_conv2 (\u001b[38;5;33mConv2D\u001b[0m)           │ (\u001b[38;5;45mNone\u001b[0m, \u001b[38;5;34m150\u001b[0m, \u001b[38;5;34m150\u001b[0m, \u001b[38;5;34m64\u001b[0m)   │        \u001b[38;5;34m36,928\u001b[0m │\n",
              "├─────────────────────────────────┼────────────────────────┼───────────────┤\n",
              "│ block1_pool (\u001b[38;5;33mMaxPooling2D\u001b[0m)      │ (\u001b[38;5;45mNone\u001b[0m, \u001b[38;5;34m75\u001b[0m, \u001b[38;5;34m75\u001b[0m, \u001b[38;5;34m64\u001b[0m)     │             \u001b[38;5;34m0\u001b[0m │\n",
              "├─────────────────────────────────┼────────────────────────┼───────────────┤\n",
              "│ block2_conv1 (\u001b[38;5;33mConv2D\u001b[0m)           │ (\u001b[38;5;45mNone\u001b[0m, \u001b[38;5;34m75\u001b[0m, \u001b[38;5;34m75\u001b[0m, \u001b[38;5;34m128\u001b[0m)    │        \u001b[38;5;34m73,856\u001b[0m │\n",
              "├─────────────────────────────────┼────────────────────────┼───────────────┤\n",
              "│ block2_conv2 (\u001b[38;5;33mConv2D\u001b[0m)           │ (\u001b[38;5;45mNone\u001b[0m, \u001b[38;5;34m75\u001b[0m, \u001b[38;5;34m75\u001b[0m, \u001b[38;5;34m128\u001b[0m)    │       \u001b[38;5;34m147,584\u001b[0m │\n",
              "├─────────────────────────────────┼────────────────────────┼───────────────┤\n",
              "│ block2_pool (\u001b[38;5;33mMaxPooling2D\u001b[0m)      │ (\u001b[38;5;45mNone\u001b[0m, \u001b[38;5;34m37\u001b[0m, \u001b[38;5;34m37\u001b[0m, \u001b[38;5;34m128\u001b[0m)    │             \u001b[38;5;34m0\u001b[0m │\n",
              "├─────────────────────────────────┼────────────────────────┼───────────────┤\n",
              "│ block3_conv1 (\u001b[38;5;33mConv2D\u001b[0m)           │ (\u001b[38;5;45mNone\u001b[0m, \u001b[38;5;34m37\u001b[0m, \u001b[38;5;34m37\u001b[0m, \u001b[38;5;34m256\u001b[0m)    │       \u001b[38;5;34m295,168\u001b[0m │\n",
              "├─────────────────────────────────┼────────────────────────┼───────────────┤\n",
              "│ block3_conv2 (\u001b[38;5;33mConv2D\u001b[0m)           │ (\u001b[38;5;45mNone\u001b[0m, \u001b[38;5;34m37\u001b[0m, \u001b[38;5;34m37\u001b[0m, \u001b[38;5;34m256\u001b[0m)    │       \u001b[38;5;34m590,080\u001b[0m │\n",
              "├─────────────────────────────────┼────────────────────────┼───────────────┤\n",
              "│ block3_conv3 (\u001b[38;5;33mConv2D\u001b[0m)           │ (\u001b[38;5;45mNone\u001b[0m, \u001b[38;5;34m37\u001b[0m, \u001b[38;5;34m37\u001b[0m, \u001b[38;5;34m256\u001b[0m)    │       \u001b[38;5;34m590,080\u001b[0m │\n",
              "├─────────────────────────────────┼────────────────────────┼───────────────┤\n",
              "│ block3_pool (\u001b[38;5;33mMaxPooling2D\u001b[0m)      │ (\u001b[38;5;45mNone\u001b[0m, \u001b[38;5;34m18\u001b[0m, \u001b[38;5;34m18\u001b[0m, \u001b[38;5;34m256\u001b[0m)    │             \u001b[38;5;34m0\u001b[0m │\n",
              "├─────────────────────────────────┼────────────────────────┼───────────────┤\n",
              "│ block4_conv1 (\u001b[38;5;33mConv2D\u001b[0m)           │ (\u001b[38;5;45mNone\u001b[0m, \u001b[38;5;34m18\u001b[0m, \u001b[38;5;34m18\u001b[0m, \u001b[38;5;34m512\u001b[0m)    │     \u001b[38;5;34m1,180,160\u001b[0m │\n",
              "├─────────────────────────────────┼────────────────────────┼───────────────┤\n",
              "│ block4_conv2 (\u001b[38;5;33mConv2D\u001b[0m)           │ (\u001b[38;5;45mNone\u001b[0m, \u001b[38;5;34m18\u001b[0m, \u001b[38;5;34m18\u001b[0m, \u001b[38;5;34m512\u001b[0m)    │     \u001b[38;5;34m2,359,808\u001b[0m │\n",
              "├─────────────────────────────────┼────────────────────────┼───────────────┤\n",
              "│ block4_conv3 (\u001b[38;5;33mConv2D\u001b[0m)           │ (\u001b[38;5;45mNone\u001b[0m, \u001b[38;5;34m18\u001b[0m, \u001b[38;5;34m18\u001b[0m, \u001b[38;5;34m512\u001b[0m)    │     \u001b[38;5;34m2,359,808\u001b[0m │\n",
              "├─────────────────────────────────┼────────────────────────┼───────────────┤\n",
              "│ block4_pool (\u001b[38;5;33mMaxPooling2D\u001b[0m)      │ (\u001b[38;5;45mNone\u001b[0m, \u001b[38;5;34m9\u001b[0m, \u001b[38;5;34m9\u001b[0m, \u001b[38;5;34m512\u001b[0m)      │             \u001b[38;5;34m0\u001b[0m │\n",
              "├─────────────────────────────────┼────────────────────────┼───────────────┤\n",
              "│ block5_conv1 (\u001b[38;5;33mConv2D\u001b[0m)           │ (\u001b[38;5;45mNone\u001b[0m, \u001b[38;5;34m9\u001b[0m, \u001b[38;5;34m9\u001b[0m, \u001b[38;5;34m512\u001b[0m)      │     \u001b[38;5;34m2,359,808\u001b[0m │\n",
              "├─────────────────────────────────┼────────────────────────┼───────────────┤\n",
              "│ block5_conv2 (\u001b[38;5;33mConv2D\u001b[0m)           │ (\u001b[38;5;45mNone\u001b[0m, \u001b[38;5;34m9\u001b[0m, \u001b[38;5;34m9\u001b[0m, \u001b[38;5;34m512\u001b[0m)      │     \u001b[38;5;34m2,359,808\u001b[0m │\n",
              "├─────────────────────────────────┼────────────────────────┼───────────────┤\n",
              "│ block5_conv3 (\u001b[38;5;33mConv2D\u001b[0m)           │ (\u001b[38;5;45mNone\u001b[0m, \u001b[38;5;34m9\u001b[0m, \u001b[38;5;34m9\u001b[0m, \u001b[38;5;34m512\u001b[0m)      │     \u001b[38;5;34m2,359,808\u001b[0m │\n",
              "├─────────────────────────────────┼────────────────────────┼───────────────┤\n",
              "│ block5_pool (\u001b[38;5;33mMaxPooling2D\u001b[0m)      │ (\u001b[38;5;45mNone\u001b[0m, \u001b[38;5;34m4\u001b[0m, \u001b[38;5;34m4\u001b[0m, \u001b[38;5;34m512\u001b[0m)      │             \u001b[38;5;34m0\u001b[0m │\n",
              "├─────────────────────────────────┼────────────────────────┼───────────────┤\n",
              "│ flatten (\u001b[38;5;33mFlatten\u001b[0m)               │ (\u001b[38;5;45mNone\u001b[0m, \u001b[38;5;34m8192\u001b[0m)           │             \u001b[38;5;34m0\u001b[0m │\n",
              "├─────────────────────────────────┼────────────────────────┼───────────────┤\n",
              "│ dense (\u001b[38;5;33mDense\u001b[0m)                   │ (\u001b[38;5;45mNone\u001b[0m, \u001b[38;5;34m256\u001b[0m)            │     \u001b[38;5;34m2,097,408\u001b[0m │\n",
              "├─────────────────────────────────┼────────────────────────┼───────────────┤\n",
              "│ dropout (\u001b[38;5;33mDropout\u001b[0m)               │ (\u001b[38;5;45mNone\u001b[0m, \u001b[38;5;34m256\u001b[0m)            │             \u001b[38;5;34m0\u001b[0m │\n",
              "├─────────────────────────────────┼────────────────────────┼───────────────┤\n",
              "│ dense_1 (\u001b[38;5;33mDense\u001b[0m)                 │ (\u001b[38;5;45mNone\u001b[0m, \u001b[38;5;34m1\u001b[0m)              │           \u001b[38;5;34m257\u001b[0m │\n",
              "└─────────────────────────────────┴────────────────────────┴───────────────┘\n"
            ],
            "text/html": [
              "<pre style=\"white-space:pre;overflow-x:auto;line-height:normal;font-family:Menlo,'DejaVu Sans Mono',consolas,'Courier New',monospace\">┏━━━━━━━━━━━━━━━━━━━━━━━━━━━━━━━━━┳━━━━━━━━━━━━━━━━━━━━━━━━┳━━━━━━━━━━━━━━━┓\n",
              "┃<span style=\"font-weight: bold\"> Layer (type)                    </span>┃<span style=\"font-weight: bold\"> Output Shape           </span>┃<span style=\"font-weight: bold\">       Param # </span>┃\n",
              "┡━━━━━━━━━━━━━━━━━━━━━━━━━━━━━━━━━╇━━━━━━━━━━━━━━━━━━━━━━━━╇━━━━━━━━━━━━━━━┩\n",
              "│ input_layer (<span style=\"color: #0087ff; text-decoration-color: #0087ff\">InputLayer</span>)        │ (<span style=\"color: #00d7ff; text-decoration-color: #00d7ff\">None</span>, <span style=\"color: #00af00; text-decoration-color: #00af00\">150</span>, <span style=\"color: #00af00; text-decoration-color: #00af00\">150</span>, <span style=\"color: #00af00; text-decoration-color: #00af00\">3</span>)    │             <span style=\"color: #00af00; text-decoration-color: #00af00\">0</span> │\n",
              "├─────────────────────────────────┼────────────────────────┼───────────────┤\n",
              "│ block1_conv1 (<span style=\"color: #0087ff; text-decoration-color: #0087ff\">Conv2D</span>)           │ (<span style=\"color: #00d7ff; text-decoration-color: #00d7ff\">None</span>, <span style=\"color: #00af00; text-decoration-color: #00af00\">150</span>, <span style=\"color: #00af00; text-decoration-color: #00af00\">150</span>, <span style=\"color: #00af00; text-decoration-color: #00af00\">64</span>)   │         <span style=\"color: #00af00; text-decoration-color: #00af00\">1,792</span> │\n",
              "├─────────────────────────────────┼────────────────────────┼───────────────┤\n",
              "│ block1_conv2 (<span style=\"color: #0087ff; text-decoration-color: #0087ff\">Conv2D</span>)           │ (<span style=\"color: #00d7ff; text-decoration-color: #00d7ff\">None</span>, <span style=\"color: #00af00; text-decoration-color: #00af00\">150</span>, <span style=\"color: #00af00; text-decoration-color: #00af00\">150</span>, <span style=\"color: #00af00; text-decoration-color: #00af00\">64</span>)   │        <span style=\"color: #00af00; text-decoration-color: #00af00\">36,928</span> │\n",
              "├─────────────────────────────────┼────────────────────────┼───────────────┤\n",
              "│ block1_pool (<span style=\"color: #0087ff; text-decoration-color: #0087ff\">MaxPooling2D</span>)      │ (<span style=\"color: #00d7ff; text-decoration-color: #00d7ff\">None</span>, <span style=\"color: #00af00; text-decoration-color: #00af00\">75</span>, <span style=\"color: #00af00; text-decoration-color: #00af00\">75</span>, <span style=\"color: #00af00; text-decoration-color: #00af00\">64</span>)     │             <span style=\"color: #00af00; text-decoration-color: #00af00\">0</span> │\n",
              "├─────────────────────────────────┼────────────────────────┼───────────────┤\n",
              "│ block2_conv1 (<span style=\"color: #0087ff; text-decoration-color: #0087ff\">Conv2D</span>)           │ (<span style=\"color: #00d7ff; text-decoration-color: #00d7ff\">None</span>, <span style=\"color: #00af00; text-decoration-color: #00af00\">75</span>, <span style=\"color: #00af00; text-decoration-color: #00af00\">75</span>, <span style=\"color: #00af00; text-decoration-color: #00af00\">128</span>)    │        <span style=\"color: #00af00; text-decoration-color: #00af00\">73,856</span> │\n",
              "├─────────────────────────────────┼────────────────────────┼───────────────┤\n",
              "│ block2_conv2 (<span style=\"color: #0087ff; text-decoration-color: #0087ff\">Conv2D</span>)           │ (<span style=\"color: #00d7ff; text-decoration-color: #00d7ff\">None</span>, <span style=\"color: #00af00; text-decoration-color: #00af00\">75</span>, <span style=\"color: #00af00; text-decoration-color: #00af00\">75</span>, <span style=\"color: #00af00; text-decoration-color: #00af00\">128</span>)    │       <span style=\"color: #00af00; text-decoration-color: #00af00\">147,584</span> │\n",
              "├─────────────────────────────────┼────────────────────────┼───────────────┤\n",
              "│ block2_pool (<span style=\"color: #0087ff; text-decoration-color: #0087ff\">MaxPooling2D</span>)      │ (<span style=\"color: #00d7ff; text-decoration-color: #00d7ff\">None</span>, <span style=\"color: #00af00; text-decoration-color: #00af00\">37</span>, <span style=\"color: #00af00; text-decoration-color: #00af00\">37</span>, <span style=\"color: #00af00; text-decoration-color: #00af00\">128</span>)    │             <span style=\"color: #00af00; text-decoration-color: #00af00\">0</span> │\n",
              "├─────────────────────────────────┼────────────────────────┼───────────────┤\n",
              "│ block3_conv1 (<span style=\"color: #0087ff; text-decoration-color: #0087ff\">Conv2D</span>)           │ (<span style=\"color: #00d7ff; text-decoration-color: #00d7ff\">None</span>, <span style=\"color: #00af00; text-decoration-color: #00af00\">37</span>, <span style=\"color: #00af00; text-decoration-color: #00af00\">37</span>, <span style=\"color: #00af00; text-decoration-color: #00af00\">256</span>)    │       <span style=\"color: #00af00; text-decoration-color: #00af00\">295,168</span> │\n",
              "├─────────────────────────────────┼────────────────────────┼───────────────┤\n",
              "│ block3_conv2 (<span style=\"color: #0087ff; text-decoration-color: #0087ff\">Conv2D</span>)           │ (<span style=\"color: #00d7ff; text-decoration-color: #00d7ff\">None</span>, <span style=\"color: #00af00; text-decoration-color: #00af00\">37</span>, <span style=\"color: #00af00; text-decoration-color: #00af00\">37</span>, <span style=\"color: #00af00; text-decoration-color: #00af00\">256</span>)    │       <span style=\"color: #00af00; text-decoration-color: #00af00\">590,080</span> │\n",
              "├─────────────────────────────────┼────────────────────────┼───────────────┤\n",
              "│ block3_conv3 (<span style=\"color: #0087ff; text-decoration-color: #0087ff\">Conv2D</span>)           │ (<span style=\"color: #00d7ff; text-decoration-color: #00d7ff\">None</span>, <span style=\"color: #00af00; text-decoration-color: #00af00\">37</span>, <span style=\"color: #00af00; text-decoration-color: #00af00\">37</span>, <span style=\"color: #00af00; text-decoration-color: #00af00\">256</span>)    │       <span style=\"color: #00af00; text-decoration-color: #00af00\">590,080</span> │\n",
              "├─────────────────────────────────┼────────────────────────┼───────────────┤\n",
              "│ block3_pool (<span style=\"color: #0087ff; text-decoration-color: #0087ff\">MaxPooling2D</span>)      │ (<span style=\"color: #00d7ff; text-decoration-color: #00d7ff\">None</span>, <span style=\"color: #00af00; text-decoration-color: #00af00\">18</span>, <span style=\"color: #00af00; text-decoration-color: #00af00\">18</span>, <span style=\"color: #00af00; text-decoration-color: #00af00\">256</span>)    │             <span style=\"color: #00af00; text-decoration-color: #00af00\">0</span> │\n",
              "├─────────────────────────────────┼────────────────────────┼───────────────┤\n",
              "│ block4_conv1 (<span style=\"color: #0087ff; text-decoration-color: #0087ff\">Conv2D</span>)           │ (<span style=\"color: #00d7ff; text-decoration-color: #00d7ff\">None</span>, <span style=\"color: #00af00; text-decoration-color: #00af00\">18</span>, <span style=\"color: #00af00; text-decoration-color: #00af00\">18</span>, <span style=\"color: #00af00; text-decoration-color: #00af00\">512</span>)    │     <span style=\"color: #00af00; text-decoration-color: #00af00\">1,180,160</span> │\n",
              "├─────────────────────────────────┼────────────────────────┼───────────────┤\n",
              "│ block4_conv2 (<span style=\"color: #0087ff; text-decoration-color: #0087ff\">Conv2D</span>)           │ (<span style=\"color: #00d7ff; text-decoration-color: #00d7ff\">None</span>, <span style=\"color: #00af00; text-decoration-color: #00af00\">18</span>, <span style=\"color: #00af00; text-decoration-color: #00af00\">18</span>, <span style=\"color: #00af00; text-decoration-color: #00af00\">512</span>)    │     <span style=\"color: #00af00; text-decoration-color: #00af00\">2,359,808</span> │\n",
              "├─────────────────────────────────┼────────────────────────┼───────────────┤\n",
              "│ block4_conv3 (<span style=\"color: #0087ff; text-decoration-color: #0087ff\">Conv2D</span>)           │ (<span style=\"color: #00d7ff; text-decoration-color: #00d7ff\">None</span>, <span style=\"color: #00af00; text-decoration-color: #00af00\">18</span>, <span style=\"color: #00af00; text-decoration-color: #00af00\">18</span>, <span style=\"color: #00af00; text-decoration-color: #00af00\">512</span>)    │     <span style=\"color: #00af00; text-decoration-color: #00af00\">2,359,808</span> │\n",
              "├─────────────────────────────────┼────────────────────────┼───────────────┤\n",
              "│ block4_pool (<span style=\"color: #0087ff; text-decoration-color: #0087ff\">MaxPooling2D</span>)      │ (<span style=\"color: #00d7ff; text-decoration-color: #00d7ff\">None</span>, <span style=\"color: #00af00; text-decoration-color: #00af00\">9</span>, <span style=\"color: #00af00; text-decoration-color: #00af00\">9</span>, <span style=\"color: #00af00; text-decoration-color: #00af00\">512</span>)      │             <span style=\"color: #00af00; text-decoration-color: #00af00\">0</span> │\n",
              "├─────────────────────────────────┼────────────────────────┼───────────────┤\n",
              "│ block5_conv1 (<span style=\"color: #0087ff; text-decoration-color: #0087ff\">Conv2D</span>)           │ (<span style=\"color: #00d7ff; text-decoration-color: #00d7ff\">None</span>, <span style=\"color: #00af00; text-decoration-color: #00af00\">9</span>, <span style=\"color: #00af00; text-decoration-color: #00af00\">9</span>, <span style=\"color: #00af00; text-decoration-color: #00af00\">512</span>)      │     <span style=\"color: #00af00; text-decoration-color: #00af00\">2,359,808</span> │\n",
              "├─────────────────────────────────┼────────────────────────┼───────────────┤\n",
              "│ block5_conv2 (<span style=\"color: #0087ff; text-decoration-color: #0087ff\">Conv2D</span>)           │ (<span style=\"color: #00d7ff; text-decoration-color: #00d7ff\">None</span>, <span style=\"color: #00af00; text-decoration-color: #00af00\">9</span>, <span style=\"color: #00af00; text-decoration-color: #00af00\">9</span>, <span style=\"color: #00af00; text-decoration-color: #00af00\">512</span>)      │     <span style=\"color: #00af00; text-decoration-color: #00af00\">2,359,808</span> │\n",
              "├─────────────────────────────────┼────────────────────────┼───────────────┤\n",
              "│ block5_conv3 (<span style=\"color: #0087ff; text-decoration-color: #0087ff\">Conv2D</span>)           │ (<span style=\"color: #00d7ff; text-decoration-color: #00d7ff\">None</span>, <span style=\"color: #00af00; text-decoration-color: #00af00\">9</span>, <span style=\"color: #00af00; text-decoration-color: #00af00\">9</span>, <span style=\"color: #00af00; text-decoration-color: #00af00\">512</span>)      │     <span style=\"color: #00af00; text-decoration-color: #00af00\">2,359,808</span> │\n",
              "├─────────────────────────────────┼────────────────────────┼───────────────┤\n",
              "│ block5_pool (<span style=\"color: #0087ff; text-decoration-color: #0087ff\">MaxPooling2D</span>)      │ (<span style=\"color: #00d7ff; text-decoration-color: #00d7ff\">None</span>, <span style=\"color: #00af00; text-decoration-color: #00af00\">4</span>, <span style=\"color: #00af00; text-decoration-color: #00af00\">4</span>, <span style=\"color: #00af00; text-decoration-color: #00af00\">512</span>)      │             <span style=\"color: #00af00; text-decoration-color: #00af00\">0</span> │\n",
              "├─────────────────────────────────┼────────────────────────┼───────────────┤\n",
              "│ flatten (<span style=\"color: #0087ff; text-decoration-color: #0087ff\">Flatten</span>)               │ (<span style=\"color: #00d7ff; text-decoration-color: #00d7ff\">None</span>, <span style=\"color: #00af00; text-decoration-color: #00af00\">8192</span>)           │             <span style=\"color: #00af00; text-decoration-color: #00af00\">0</span> │\n",
              "├─────────────────────────────────┼────────────────────────┼───────────────┤\n",
              "│ dense (<span style=\"color: #0087ff; text-decoration-color: #0087ff\">Dense</span>)                   │ (<span style=\"color: #00d7ff; text-decoration-color: #00d7ff\">None</span>, <span style=\"color: #00af00; text-decoration-color: #00af00\">256</span>)            │     <span style=\"color: #00af00; text-decoration-color: #00af00\">2,097,408</span> │\n",
              "├─────────────────────────────────┼────────────────────────┼───────────────┤\n",
              "│ dropout (<span style=\"color: #0087ff; text-decoration-color: #0087ff\">Dropout</span>)               │ (<span style=\"color: #00d7ff; text-decoration-color: #00d7ff\">None</span>, <span style=\"color: #00af00; text-decoration-color: #00af00\">256</span>)            │             <span style=\"color: #00af00; text-decoration-color: #00af00\">0</span> │\n",
              "├─────────────────────────────────┼────────────────────────┼───────────────┤\n",
              "│ dense_1 (<span style=\"color: #0087ff; text-decoration-color: #0087ff\">Dense</span>)                 │ (<span style=\"color: #00d7ff; text-decoration-color: #00d7ff\">None</span>, <span style=\"color: #00af00; text-decoration-color: #00af00\">1</span>)              │           <span style=\"color: #00af00; text-decoration-color: #00af00\">257</span> │\n",
              "└─────────────────────────────────┴────────────────────────┴───────────────┘\n",
              "</pre>\n"
            ]
          },
          "metadata": {}
        },
        {
          "output_type": "display_data",
          "data": {
            "text/plain": [
              "\u001b[1m Total params: \u001b[0m\u001b[38;5;34m16,812,353\u001b[0m (64.13 MB)\n"
            ],
            "text/html": [
              "<pre style=\"white-space:pre;overflow-x:auto;line-height:normal;font-family:Menlo,'DejaVu Sans Mono',consolas,'Courier New',monospace\"><span style=\"font-weight: bold\"> Total params: </span><span style=\"color: #00af00; text-decoration-color: #00af00\">16,812,353</span> (64.13 MB)\n",
              "</pre>\n"
            ]
          },
          "metadata": {}
        },
        {
          "output_type": "display_data",
          "data": {
            "text/plain": [
              "\u001b[1m Trainable params: \u001b[0m\u001b[38;5;34m2,097,665\u001b[0m (8.00 MB)\n"
            ],
            "text/html": [
              "<pre style=\"white-space:pre;overflow-x:auto;line-height:normal;font-family:Menlo,'DejaVu Sans Mono',consolas,'Courier New',monospace\"><span style=\"font-weight: bold\"> Trainable params: </span><span style=\"color: #00af00; text-decoration-color: #00af00\">2,097,665</span> (8.00 MB)\n",
              "</pre>\n"
            ]
          },
          "metadata": {}
        },
        {
          "output_type": "display_data",
          "data": {
            "text/plain": [
              "\u001b[1m Non-trainable params: \u001b[0m\u001b[38;5;34m14,714,688\u001b[0m (56.13 MB)\n"
            ],
            "text/html": [
              "<pre style=\"white-space:pre;overflow-x:auto;line-height:normal;font-family:Menlo,'DejaVu Sans Mono',consolas,'Courier New',monospace\"><span style=\"font-weight: bold\"> Non-trainable params: </span><span style=\"color: #00af00; text-decoration-color: #00af00\">14,714,688</span> (56.13 MB)\n",
              "</pre>\n"
            ]
          },
          "metadata": {}
        }
      ]
    },
    {
      "cell_type": "code",
      "source": [
        "import numpy as np\n",
        "import tensorflow as tf\n",
        "from sklearn.utils.class_weight import compute_class_weight\n",
        "\n",
        "# Callbacks\n",
        "early_stop = tf.keras.callbacks.EarlyStopping(\n",
        "    monitor=\"val_loss\", patience=3, restore_best_weights=True\n",
        ")\n",
        "ckpt = tf.keras.callbacks.ModelCheckpoint(\n",
        "    \"/content/drive/MyDrive/ai_project/best_vgg16.h5\",\n",
        "    monitor=\"val_loss\", save_best_only=True\n",
        ")\n",
        "reduce_lr = tf.keras.callbacks.ReduceLROnPlateau(\n",
        "    monitor=\"val_loss\", factor=0.5, patience=2, min_lr=1e-6\n",
        ")\n",
        "\n",
        "# Class weights (helps with NORMAL vs PNEUMONIA imbalance)\n",
        "# train_gen is your generator with subset='training'\n",
        "classes = np.unique(train_gen.classes)        # e.g., [0, 1]\n",
        "cw = compute_class_weight(\n",
        "    class_weight=\"balanced\",\n",
        "    classes=classes,\n",
        "    y=train_gen.classes\n",
        ")\n",
        "class_weight = {int(c): float(w) for c, w in zip(classes, cw)}\n",
        "class_weight\n"
      ],
      "metadata": {
        "colab": {
          "base_uri": "https://localhost:8080/"
        },
        "id": "87LkcnAuagx9",
        "outputId": "37e8d3ab-f707-4427-839b-45717483390e"
      },
      "execution_count": null,
      "outputs": [
        {
          "output_type": "execute_result",
          "data": {
            "text/plain": [
              "{0: 1.9445479962721341, 1: 0.6730645161290323}"
            ]
          },
          "metadata": {},
          "execution_count": 24
        }
      ]
    },
    {
      "cell_type": "code",
      "source": [
        "history = model.fit(\n",
        "    train_gen,\n",
        "    validation_data=val_gen,\n",
        "    epochs=10,\n",
        "    callbacks=[early_stop, ckpt, reduce_lr],\n",
        "    class_weight=class_weight,      # you can remove this line if you don’t want weighting\n",
        "    verbose=1\n",
        ")\n"
      ],
      "metadata": {
        "colab": {
          "base_uri": "https://localhost:8080/"
        },
        "id": "vg4CpO74a9sf",
        "outputId": "3e05bcc3-c5bb-425c-870b-6228d5782a6a"
      },
      "execution_count": null,
      "outputs": [
        {
          "output_type": "stream",
          "name": "stdout",
          "text": [
            "Epoch 1/10\n",
            "\u001b[1m131/131\u001b[0m \u001b[32m━━━━━━━━━━━━━━━━━━━━\u001b[0m\u001b[37m\u001b[0m \u001b[1m0s\u001b[0m 1s/step - accuracy: 0.8778 - loss: 0.2927"
          ]
        },
        {
          "output_type": "stream",
          "name": "stderr",
          "text": [
            "WARNING:absl:You are saving your model as an HDF5 file via `model.save()` or `keras.saving.save_model(model)`. This file format is considered legacy. We recommend using instead the native Keras format, e.g. `model.save('my_model.keras')` or `keras.saving.save_model(model, 'my_model.keras')`. \n"
          ]
        },
        {
          "output_type": "stream",
          "name": "stdout",
          "text": [
            "\b\b\b\b\b\b\b\b\b\b\b\b\b\b\b\b\b\b\b\b\b\b\b\b\b\b\b\b\b\b\b\b\b\b\b\b\b\b\b\b\b\b\b\b\b\b\b\b\b\b\b\b\b\b\b\b\b\b\b\b\b\b\b\b\b\b\b\b\b\b\b\b\b\r\u001b[1m131/131\u001b[0m \u001b[32m━━━━━━━━━━━━━━━━━━━━\u001b[0m\u001b[37m\u001b[0m \u001b[1m290s\u001b[0m 2s/step - accuracy: 0.8779 - loss: 0.2924 - val_accuracy: 0.7728 - val_loss: 0.4919 - learning_rate: 1.0000e-04\n",
            "Epoch 2/10\n",
            "\u001b[1m131/131\u001b[0m \u001b[32m━━━━━━━━━━━━━━━━━━━━\u001b[0m\u001b[37m\u001b[0m \u001b[1m0s\u001b[0m 558ms/step - accuracy: 0.9047 - loss: 0.2400"
          ]
        },
        {
          "output_type": "stream",
          "name": "stderr",
          "text": [
            "WARNING:absl:You are saving your model as an HDF5 file via `model.save()` or `keras.saving.save_model(model)`. This file format is considered legacy. We recommend using instead the native Keras format, e.g. `model.save('my_model.keras')` or `keras.saving.save_model(model, 'my_model.keras')`. \n"
          ]
        },
        {
          "output_type": "stream",
          "name": "stdout",
          "text": [
            "\b\b\b\b\b\b\b\b\b\b\b\b\b\b\b\b\b\b\b\b\b\b\b\b\b\b\b\b\b\b\b\b\b\b\b\b\b\b\b\b\b\b\b\b\b\b\b\b\b\b\b\b\b\b\b\b\b\b\b\b\b\b\b\b\b\b\b\b\b\b\b\b\b\b\b\b\r\u001b[1m131/131\u001b[0m \u001b[32m━━━━━━━━━━━━━━━━━━━━\u001b[0m\u001b[37m\u001b[0m \u001b[1m88s\u001b[0m 670ms/step - accuracy: 0.9047 - loss: 0.2400 - val_accuracy: 0.8591 - val_loss: 0.3224 - learning_rate: 1.0000e-04\n",
            "Epoch 3/10\n",
            "\u001b[1m131/131\u001b[0m \u001b[32m━━━━━━━━━━━━━━━━━━━━\u001b[0m\u001b[37m\u001b[0m \u001b[1m86s\u001b[0m 662ms/step - accuracy: 0.9137 - loss: 0.2229 - val_accuracy: 0.8332 - val_loss: 0.3784 - learning_rate: 1.0000e-04\n",
            "Epoch 4/10\n",
            "\u001b[1m131/131\u001b[0m \u001b[32m━━━━━━━━━━━━━━━━━━━━\u001b[0m\u001b[37m\u001b[0m \u001b[1m84s\u001b[0m 644ms/step - accuracy: 0.9222 - loss: 0.2102 - val_accuracy: 0.8130 - val_loss: 0.4420 - learning_rate: 1.0000e-04\n",
            "Epoch 5/10\n",
            "\u001b[1m131/131\u001b[0m \u001b[32m━━━━━━━━━━━━━━━━━━━━\u001b[0m\u001b[37m\u001b[0m \u001b[1m84s\u001b[0m 639ms/step - accuracy: 0.9106 - loss: 0.2100 - val_accuracy: 0.8236 - val_loss: 0.4264 - learning_rate: 5.0000e-05\n"
          ]
        }
      ]
    },
    {
      "cell_type": "code",
      "source": [
        "import matplotlib.pyplot as plt\n",
        "\n",
        "def plot_history(h):\n",
        "    # ACCURACY\n",
        "    plt.figure()\n",
        "    plt.plot(h.history['accuracy'], label='train_acc')\n",
        "    plt.plot(h.history['val_accuracy'], label='val_acc')\n",
        "    plt.xlabel('Epoch'); plt.ylabel('Accuracy'); plt.legend(); plt.title('Accuracy')\n",
        "    plt.show()\n",
        "    # LOSS\n",
        "    plt.figure()\n",
        "    plt.plot(h.history['loss'], label='train_loss')\n",
        "    plt.plot(h.history['val_loss'], label='val_loss')\n",
        "    plt.xlabel('Epoch'); plt.ylabel('Loss'); plt.legend(); plt.title('Loss')\n",
        "    plt.show()\n",
        "\n",
        "plot_history(history)\n"
      ],
      "metadata": {
        "colab": {
          "base_uri": "https://localhost:8080/",
          "height": 927
        },
        "id": "ftCzLUy9bCHl",
        "outputId": "47487747-89ad-434e-f992-f31c32e8fa00"
      },
      "execution_count": null,
      "outputs": [
        {
          "output_type": "display_data",
          "data": {
            "text/plain": [
              "<Figure size 640x480 with 1 Axes>"
            ],
            "image/png": "[encoded data removed]"
          },
          "metadata": {}
        },
        {
          "output_type": "display_data",
          "data": {
            "text/plain": [
              "<Figure size 640x480 with 1 Axes>"
            ],
            "image/png": "[encoded data removed]"
          },
          "metadata": {}
        }
      ]
    },
    {
      "cell_type": "code",
      "source": [
        "from sklearn.metrics import classification_report, confusion_matrix\n",
        "import numpy as np\n",
        "import matplotlib.pyplot as plt\n",
        "\n",
        "# Load best weights (in case EarlyStopping restored, this is optional)\n",
        "model.load_weights(\"/content/drive/MyDrive/ai_project/best_vgg16.h5\")\n",
        "\n",
        "# Raw metrics\n",
        "test_loss, test_acc = model.evaluate(test_gen, verbose=1)\n",
        "print(f\"Test accuracy: {test_acc:.4f}  |  Test loss: {test_loss:.4f}\")\n",
        "\n",
        "# Predictions → 0/1\n",
        "test_gen.reset()\n",
        "probs = model.predict(test_gen, verbose=1).ravel()\n",
        "y_pred = (probs >= 0.5).astype(int)\n",
        "y_true = test_gen.classes\n",
        "\n",
        "# Labels in order of generator\n",
        "idx_to_class = {v:k for k,v in test_gen.class_indices.items()}\n",
        "target_names = [idx_to_class[i] for i in sorted(idx_to_class.keys())]\n",
        "\n",
        "print(\"\\nClassification Report:\")\n",
        "print(classification_report(y_true, y_pred, target_names=target_names, digits=4))\n",
        "\n",
        "# Confusion matrix (simple plot)\n",
        "cm = confusion_matrix(y_true, y_pred)\n",
        "plt.figure()\n",
        "plt.imshow(cm, interpolation='nearest')\n",
        "plt.title('Confusion Matrix'); plt.colorbar()\n",
        "tick_marks = np.arange(len(target_names))\n",
        "plt.xticks(tick_marks, target_names, rotation=45)\n",
        "plt.yticks(tick_marks, target_names)\n",
        "thresh = cm.max() / 2.\n",
        "for i in range(cm.shape[0]):\n",
        "    for j in range(cm.shape[1]):\n",
        "        plt.text(j, i, cm[i, j], ha=\"center\", va=\"center\",\n",
        "                 color=\"white\" if cm[i, j] > thresh else \"black\")\n",
        "plt.ylabel('True label'); plt.xlabel('Predicted label'); plt.tight_layout()\n",
        "plt.show()\n"
      ],
      "metadata": {
        "colab": {
          "base_uri": "https://localhost:8080/",
          "height": 740
        },
        "id": "w7DgK_E1bHam",
        "outputId": "bfb52f20-840c-44e9-bcbd-424ff88973a4"
      },
      "execution_count": null,
      "outputs": [
        {
          "output_type": "stream",
          "name": "stdout",
          "text": [
            "\u001b[1m20/20\u001b[0m \u001b[32m━━━━━━━━━━━━━━━━━━━━\u001b[0m\u001b[37m\u001b[0m \u001b[1m219s\u001b[0m 11s/step - accuracy: 0.8935 - loss: 0.3002\n",
            "Test accuracy: 0.8942  |  Test loss: 0.2717\n",
            "\u001b[1m20/20\u001b[0m \u001b[32m━━━━━━━━━━━━━━━━━━━━\u001b[0m\u001b[37m\u001b[0m \u001b[1m11s\u001b[0m 421ms/step\n",
            "\n",
            "Classification Report:\n",
            "              precision    recall  f1-score   support\n",
            "\n",
            "      NORMAL     0.8500    0.8718    0.8608       234\n",
            "   PNEUMONIA     0.9219    0.9077    0.9147       390\n",
            "\n",
            "    accuracy                         0.8942       624\n",
            "   macro avg     0.8859    0.8897    0.8877       624\n",
            "weighted avg     0.8949    0.8942    0.8945       624\n",
            "\n"
          ]
        },
        {
          "output_type": "display_data",
          "data": {
            "text/plain": [
              "<Figure size 640x480 with 2 Axes>"
            ],
            "image/png": "[encoded data removed]"
          },
          "metadata": {}
        }
      ]
    },
    {
      "cell_type": "code",
      "source": [
        "# Import necessary libraries\n",
        "import ipywidgets as widgets\n",
        "from IPython.display import display, clear_output\n",
        "import numpy as np\n",
        "from tensorflow.keras.preprocessing import image\n",
        "import matplotlib.pyplot as plt\n",
        "import io # Used to handle image bytes in memory\n",
        "\n",
        "# ==============================================================================\n",
        "# IMPORTANT: Make sure your trained model is loaded and available as `model`.\n",
        "# For example:\n",
        "# from tensorflow.keras.models import load_model\n",
        "# model = load_model('path/to/your/pneumonia_model.h5')\n",
        "\n",
        "# Also, ensure your class names are defined correctly.\n",
        "# The order must match your model's training data.\n",
        "# For example, if your model was trained with directories where 'NORMAL' came\n",
        "# first alphabetically, it would be index 0. Check train_generator.class_indices.\n",
        "target_names = ['Normal', 'Pneumonia']\n",
        "# ==============================================================================\n",
        "\n",
        "\n",
        "# 1. Create the UI widgets\n",
        "uploader = widgets.FileUpload(\n",
        "    accept='image/*',\n",
        "    description='Upload X-Ray',\n",
        "    multiple=False\n",
        ")\n",
        "output_widget = widgets.Output()\n",
        "\n",
        "\n",
        "# 2. Define the function to handle the upload and make a prediction\n",
        "def on_upload_change(change):\n",
        "    \"\"\"This function runs when a new file is uploaded.\"\"\"\n",
        "    # Clear the previous output\n",
        "    with output_widget:\n",
        "        clear_output()\n",
        "\n",
        "        # Check if a file has been uploaded\n",
        "        if not uploader.value:\n",
        "            return\n",
        "\n",
        "        try:\n",
        "            # Get the content of the uploaded file\n",
        "            uploaded_file = uploader.value\n",
        "            filename = next(iter(uploaded_file)) # Get the first (and only) filename\n",
        "            content = uploaded_file[filename]['content']\n",
        "\n",
        "            # Use io.BytesIO to read the image from memory\n",
        "            img = image.load_img(io.BytesIO(content), target_size=(150, 150))\n",
        "\n",
        "            # Preprocess the image for the model\n",
        "            img_array = image.img_to_array(img)\n",
        "            img_array = np.expand_dims(img_array, axis=0) # Create a batch\n",
        "            img_array /= 255.0 # Rescale pixel values to match training\n",
        "\n",
        "            # --- Make Prediction ---\n",
        "            prediction = model.predict(img_array)\n",
        "            score = prediction[0][0] # Get the raw probability score\n",
        "\n",
        "            # Interpret the result\n",
        "            if score < 0.5:\n",
        "                predicted_class = target_names[0] # Normal\n",
        "                confidence = 1 - score\n",
        "            else:\n",
        "                predicted_class = target_names[1] # Pneumonia\n",
        "                confidence = score\n",
        "\n",
        "            # --- Display the results ---\n",
        "            print(f\"✅ Prediction: **{predicted_class}**\")\n",
        "            print(f\"Confidence: {confidence:.2%}\")\n",
        "\n",
        "            plt.figure(figsize=(5, 5))\n",
        "            plt.imshow(img)\n",
        "            plt.title(f\"Predicted: {predicted_class}\\nConfidence: {confidence:.2%}\")\n",
        "            plt.axis('off')\n",
        "            plt.show()\n",
        "\n",
        "        except Exception as e:\n",
        "            print(f\"An error occurred: {e}\")\n",
        "\n",
        "# 3. Link the function to the uploader widget\n",
        "uploader.observe(on_upload_change, names='value')\n",
        "\n",
        "# 4. Display the widgets to the user\n",
        "print(\"🩺 Please upload a chest X-ray image to get a prediction.\")\n",
        "display(uploader, output_widget)"
      ],
      "metadata": {
        "colab": {
          "base_uri": "https://localhost:8080/",
          "height": 67,
          "referenced_widgets": [
            "d2a067495dc048fabb6e98fc4285114b",
            "24e7916cd26e41bda8573a5731b1ef69",
            "57bbd6df46494d98ab0dcd6f18b0c992",
            "a5423e418ca746d79514755cb514c12f",
            "04d9dd6cdffd41ff86233daf4d9a0d36"
          ]
        },
        "id": "qsKtnLjQIG2j",
        "outputId": "711c41c7-3069-405b-9b0b-ae794aa32e44"
      },
      "execution_count": null,
      "outputs": [
        {
          "output_type": "stream",
          "name": "stdout",
          "text": [
            "🩺 Please upload a chest X-ray image to get a prediction.\n"
          ]
        },
        {
          "output_type": "display_data",
          "data": {
            "text/plain": [
              "FileUpload(value={}, accept='image/*', description='Upload X-Ray')"
            ],
            "application/vnd.jupyter.widget-view+json": {
              "version_major": 2,
              "version_minor": 0,
              "model_id": "d2a067495dc048fabb6e98fc4285114b"
            }
          },
          "metadata": {}
        },
        {
          "output_type": "display_data",
          "data": {
            "text/plain": [
              "Output()"
            ],
            "application/vnd.jupyter.widget-view+json": {
              "version_major": 2,
              "version_minor": 0,
              "model_id": "a5423e418ca746d79514755cb514c12f"
            }
          },
          "metadata": {}
        }
      ]
    },
    {
      "cell_type": "code",
      "source": [
        "# Import necessary libraries\n",
        "import ipywidgets as widgets\n",
        "from IPython.display import display, clear_output\n",
        "import numpy as np\n",
        "from tensorflow.keras.preprocessing import image\n",
        "import matplotlib.pyplot as plt\n",
        "import io # Used to handle image bytes in memory\n",
        "\n",
        "# ==============================================================================\n",
        "# IMPORTANT: Make sure your trained model is loaded and available as `model`.\n",
        "# For example:\n",
        "# from tensorflow.keras.models import load_model\n",
        "# model = load_model('path/to/your/pneumonia_model.h5')\n",
        "\n",
        "# Also, ensure your class names are defined correctly.\n",
        "# The order must match your model's training data.\n",
        "# For example, if your model was trained with directories where 'NORMAL' came\n",
        "# first alphabetically, it would be index 0. Check train_generator.class_indices.\n",
        "target_names = ['Normal', 'Pneumonia']\n",
        "# ==============================================================================\n",
        "\n",
        "\n",
        "# 1. Create the UI widgets\n",
        "uploader = widgets.FileUpload(\n",
        "    accept='image/*',\n",
        "    description='Upload X-Ray',\n",
        "    multiple=False\n",
        ")\n",
        "output_widget = widgets.Output()\n",
        "\n",
        "\n",
        "# 2. Define the function to handle the upload and make a prediction\n",
        "def on_upload_change(change):\n",
        "    \"\"\"This function runs when a new file is uploaded.\"\"\"\n",
        "    # Clear the previous output\n",
        "    with output_widget:\n",
        "        clear_output()\n",
        "\n",
        "        # Check if a file has been uploaded\n",
        "        if not uploader.value:\n",
        "            return\n",
        "\n",
        "        try:\n",
        "            # Get the content of the uploaded file\n",
        "            uploaded_file = uploader.value\n",
        "            filename = next(iter(uploaded_file)) # Get the first (and only) filename\n",
        "            content = uploaded_file[filename]['content']\n",
        "\n",
        "            # Use io.BytesIO to read the image from memory\n",
        "            img = image.load_img(io.BytesIO(content), target_size=(150, 150))\n",
        "\n",
        "            # Preprocess the image for the model\n",
        "            img_array = image.img_to_array(img)\n",
        "            img_array = np.expand_dims(img_array, axis=0) # Create a batch\n",
        "            img_array /= 255.0 # Rescale pixel values to match training\n",
        "\n",
        "            # --- Make Prediction ---\n",
        "            prediction = model.predict(img_array)\n",
        "            score = prediction[0][0] # Get the raw probability score\n",
        "\n",
        "            # Interpret the result\n",
        "            if score < 0.5:\n",
        "                predicted_class = target_names[0] # Normal\n",
        "                confidence = 1 - score\n",
        "            else:\n",
        "                predicted_class = target_names[1] # Pneumonia\n",
        "                confidence = score\n",
        "\n",
        "            # --- Display the results ---\n",
        "            print(f\"✅ Prediction: **{predicted_class}**\")\n",
        "            print(f\"Confidence: {confidence:.2%}\")\n",
        "\n",
        "            plt.figure(figsize=(5, 5))\n",
        "            plt.imshow(img)\n",
        "            plt.title(f\"Predicted: {predicted_class}\\nConfidence: {confidence:.2%}\")\n",
        "            plt.axis('off')\n",
        "            plt.show()\n",
        "\n",
        "        except Exception as e:\n",
        "            print(f\"An error occurred: {e}\")\n",
        "\n",
        "# 3. Link the function to the uploader widget\n",
        "uploader.observe(on_upload_change, names='value')\n",
        "\n",
        "# 4. Display the widgets to the user\n",
        "print(\"🩺 Please upload a chest X-ray image to get a prediction.\")\n",
        "display(uploader, output_widget)"
      ],
      "metadata": {
        "colab": {
          "base_uri": "https://localhost:8080/",
          "height": 587,
          "referenced_widgets": [
            "bde5eb29fdbe4ba6970b5060579b2e31",
            "e1a4b2b4e3d64e909ef0283164647ec3",
            "9c5d3c236dd94327b6c0b35db0a5ab3b",
            "0f910a40e04842359242a896a0e7b1ce",
            "6f424aa1592c4b9b805c78eb4a66040d"
          ]
        },
        "id": "DmoWFE7906CI",
        "outputId": "52ad35e5-ebd2-4f49-cc23-f45571810673"
      },
      "execution_count": null,
      "outputs": [
        {
          "output_type": "stream",
          "name": "stdout",
          "text": [
            "🩺 Please upload a chest X-ray image to get a prediction.\n"
          ]
        },
        {
          "output_type": "display_data",
          "data": {
            "text/plain": [
              "FileUpload(value={}, accept='image/*', description='Upload X-Ray')"
            ],
            "application/vnd.jupyter.widget-view+json": {
              "version_major": 2,
              "version_minor": 0,
              "model_id": "bde5eb29fdbe4ba6970b5060579b2e31"
            }
          },
          "metadata": {}
        },
        {
          "output_type": "display_data",
          "data": {
            "text/plain": [
              "Output()"
            ],
            "application/vnd.jupyter.widget-view+json": {
              "version_major": 2,
              "version_minor": 0,
              "model_id": "0f910a40e04842359242a896a0e7b1ce"
            }
          },
          "metadata": {}
        }
      ]
    }
  ]
}